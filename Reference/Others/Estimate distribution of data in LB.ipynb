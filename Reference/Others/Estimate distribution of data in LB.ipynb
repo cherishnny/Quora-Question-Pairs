{
  "cells": [
    {
      "metadata": {
        "_cell_guid": "482f4a00-26df-bc88-fd79-57da8b0f1d0c",
        "_uuid": "dd6b6006175eea7a93bd1ed9cb462287479badb7"
      },
      "cell_type": "markdown",
      "source": "#Inspiration\nThis kernel is inspired by [David Thaler][1] idea to estimate the distribution of LB. My idea is to exploit the fact that log function exacerbates the value of x near 0 as opposite to its value at 1 (which is exactly zero). In order to deal with computational stability, log loss function utilizes a small coefficient epsilon = 1e-15. Fortunately, this small additive coefficient still reserve the great disparency between log(1-epsilon) and log(epsilon).\n\nI will first present my estimation method first then do all the computation at the end.\n\n  [1]: https://www.kaggle.com/davidthaler/quora-question-pairs/how-many-1-s-are-in-the-public-lb"
    },
    {
      "metadata": {
        "_cell_guid": "7133bc16-ecea-83cb-71a8-b06a2020b9b9",
        "_uuid": "a28205cb0a8344a0e7637bfa49077ddc9b9152dd",
        "trusted": false
      },
      "cell_type": "code",
      "source": "import numpy as np\nimport pandas as pd\nepsilon = 1e-15\nprint('log(epsilon):',-np.log(epsilon))\nprint('log(1-epsilon):',-np.log(1-epsilon))",
      "execution_count": null,
      "outputs": []
    },
    {
      "metadata": {
        "_cell_guid": "9d3af2f2-c760-451c-293f-e816df54cff4",
        "_uuid": "7f551ff080a152bfaa01e39b85d719ba4fcd2216"
      },
      "cell_type": "markdown",
      "source": "Here is a [quick description][1] of log loss function.\n\n#Motivation\n\nFirstly, what happened when we label all test data as 0. This obviously gives best loss score on negative label data and huge penalty on positive test data. In order word, this the log loss score would consist of many scores from positive label data (which is a constant **log(epsilon)** for each positive data point in LB). Thus we can ignore the log loss score from negative data point (**log(1-epsilon)** per negative data point).\n\n[1]:https://www.kaggle.com/wiki/LogarithmicLoss"
    },
    {
      "metadata": {
        "_cell_guid": "238e543f-bd36-a91a-ea42-716104e25927",
        "_uuid": "ac7e88ceda5e59d7fbe7013605546bb33686d3d9",
        "trusted": false
      },
      "cell_type": "code",
      "source": "df_test = pd.read_csv('../input/test.csv')\nn = len(df_test)\nprint('n:',n)\n\nconst = (n/n)*-np.log(1-epsilon)\nprint('const:',const)",
      "execution_count": null,
      "outputs": []
    },
    {
      "metadata": {
        "_cell_guid": "ca3f65b6-20d6-8c3e-3c81-250b89ebbe9b",
        "_uuid": "dc9884b28ff98812ded5f2b85840cfea658d9ad2"
      },
      "cell_type": "markdown",
      "source": "#Estimate portion of n1 (n1/n)\n\nLet define n1, n2, n3 as the number of positive data point, negative data point, and computer generated data point. Let call alpha as the log loss of test data label all 0. We have:\nalpha = (n1/n)*-log(epsilon)+(n2/n)*-log(1-epsilon)\n\n##Lower bound of n1/n:\n\nSince we only have n=2345796 data row in the testing data set, n2 < 2345796. Thus:\n\n(n2/n)*-log(1-epsilon) < const, with const = (n/n)*-log(1-epsilon) = 9.99200722163e-16\nRemember that: -log(1-epsilon) > 0\n\nThen alpha < (n1/n)*-log(epsilon)+ const. As a result: **(n1/n) > (alpha - const)/(-log(epsilon))**\n\n##Upper bound of n1/n:\n(n1/n)*-log(epsilon) < alpha Then: **(n1/n) < alpha/(-log(epsilon))**\n\nThus we have: **(alpha - const)/(-log(epsilon)) < (n1/n) < alpha/(-log(epsilon))**\n\n#Estimating portion of n2 (n2/n):\nThe same goes for n2. Let call beta = (n1/n)*-log(1-epsilon)+(n2/n)*-log(epsilon)\n\nThen **(beta - const)/(-log(epsilon)) < (n2/n) < beta/(-log(epsilon))**\n\n\n  [1]: https://www.kaggle.com/wiki/LogarithmicLoss"
    },
    {
      "metadata": {
        "_cell_guid": "8d349131-d354-8f44-0ed5-42c902864228",
        "_uuid": "abf32295e68ff7bd551d665254221141b174690a",
        "trusted": false
      },
      "cell_type": "code",
      "source": "test = pd.read_csv('../input/test.csv')\nsub = test[['test_id']].copy()\nsub['is_duplicate'] = 0\nsub.to_csv('submission_alpha.csv', index=False)",
      "execution_count": null,
      "outputs": []
    },
    {
      "metadata": {
        "_cell_guid": "40592147-d6e9-887f-3373-6390af230202",
        "_uuid": "3df94681b0bcceaff82feb0a0ebfe2022e27f5b5",
        "trusted": false
      },
      "cell_type": "code",
      "source": "test = pd.read_csv('../input/test.csv')\nsub = test[['test_id']].copy()\nsub['is_duplicate'] = 1\nsub.to_csv('submission_beta.csv', index=False)",
      "execution_count": null,
      "outputs": []
    },
    {
      "metadata": {
        "_cell_guid": "0b9569e8-19eb-65f1-d945-3f90729e25db",
        "_uuid": "ea90d1986e651709719272f531b2c394f92af902"
      },
      "cell_type": "markdown",
      "source": " This result alpha = 6.0188 and beta = 28.52056"
    },
    {
      "metadata": {
        "_cell_guid": "48dfd13a-a29a-06fc-69af-7ebf122f1786",
        "_uuid": "f16cc4aaa90f815e8bb97820a2451c5f519a2a54",
        "trusted": false
      },
      "cell_type": "code",
      "source": "alpha = 6.0188 \nbeta = 28.52056\n\nprint ((alpha - const)/(-np.log(epsilon)),'< (n1/n) <',alpha/(-np.log(epsilon)))\nprint ((beta - const)/(-np.log(epsilon)),'< (n2/n) <',beta/(-np.log(epsilon)))",
      "execution_count": null,
      "outputs": []
    },
    {
      "metadata": {
        "_cell_guid": "0af02a90-fc87-87d0-5875-155fd96ec70d",
        "_uuid": "cfbbae0f884b83fa2effe3e9d866a407db55ec3f"
      },
      "cell_type": "markdown",
      "source": "Then we can conclude that Public leaderboard consist of 17.5% of positive data point and 82.5% of negative data point."
    },
    {
      "metadata": {
        "_cell_guid": "022b690a-f9f0-a4e3-211a-34f337044818",
        "_uuid": "5cec892bdbeb7cede935ca75d6a4868ea2f31370"
      },
      "cell_type": "markdown",
      "source": "Now can we estimate the exact number of positive/negative data point. In order word, can we know how many computer generated data point in test set ??\nTo be continue.... \n\nPeace :)"
    }
  ],
  "metadata": {
    "_change_revision": 0,
    "_is_fork": false,
    "kernelspec": {
      "display_name": "Python 3",
      "language": "python",
      "name": "python3"
    },
    "language_info": {
      "name": "python",
      "version": "3.6.6",
      "mimetype": "text/x-python",
      "codemirror_mode": {
        "name": "ipython",
        "version": 3
      },
      "pygments_lexer": "ipython3",
      "nbconvert_exporter": "python",
      "file_extension": ".py"
    }
  },
  "nbformat": 4,
  "nbformat_minor": 1
}